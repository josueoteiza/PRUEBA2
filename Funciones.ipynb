{
  "nbformat": 4,
  "nbformat_minor": 0,
  "metadata": {
    "colab": {
      "provenance": [],
      "authorship_tag": "ABX9TyPubttr9waz6Bez0xARcC54",
      "include_colab_link": true
    },
    "kernelspec": {
      "name": "python3",
      "display_name": "Python 3"
    },
    "language_info": {
      "name": "python"
    }
  },
  "cells": [
    {
      "cell_type": "markdown",
      "metadata": {
        "id": "view-in-github",
        "colab_type": "text"
      },
      "source": [
        "<a href=\"https://colab.research.google.com/github/josueoteiza/PRUEBA2/blob/main/Funciones.ipynb\" target=\"_parent\"><img src=\"https://colab.research.google.com/assets/colab-badge.svg\" alt=\"Open In Colab\"/></a>"
      ]
    },
    {
      "cell_type": "code",
      "execution_count": 13,
      "metadata": {
        "colab": {
          "base_uri": "https://localhost:8080/"
        },
        "id": "6phYPpvBBoSl",
        "outputId": "4d48f947-6f1a-4c37-8345-7c819e6f1996"
      },
      "outputs": [
        {
          "output_type": "stream",
          "name": "stdout",
          "text": [
            "0\n"
          ]
        }
      ],
      "source": [
        "from itertools import cycle\n",
        "\n",
        "def digito_verificador(rut):\n",
        "    reversed_digits = map(int, reversed(str(rut)))\n",
        "    factors = cycle(range(2, 8))\n",
        "    s = sum(d * f for d, f in zip(reversed_digits, factors))\n",
        "    return (-s) % 11\n",
        "\n",
        "print( digito_verificador(8467))"
      ]
    },
    {
      "cell_type": "code",
      "source": [
        "def sumarizar(lista):\n",
        "    suma=0\n",
        "    for x in range(len(lista)):\n",
        "        suma=suma+lista[x]\n",
        "    return suma\n",
        "\n",
        "\n",
        "def mayor(lista):\n",
        "    may=lista[0]\n",
        "    for x in range(1,len(lista)):\n",
        "        if lista[x]>may:\n",
        "            may=lista[x]\n",
        "    return may\n",
        "\n",
        "\n",
        "def menor(lista):\n",
        "    men=lista[0]\n",
        "    for x in range(1,len(lista)):\n",
        "        if lista[x]<men:\n",
        "            men=lista[x]\n",
        "    return men\n",
        "\n",
        "\n",
        "# bloque principal del programa\n",
        "\n",
        "listavalores=[10, 56, 23, 120, 94]\n",
        "print(\"La lista completa es\")\n",
        "print(listavalores)\n",
        "print(\"La suma de todos su elementos es\", sumarizar(listavalores))\n",
        "print(\"El mayor valor de la lista es\", mayor(listavalores))\n",
        "print(\"El menor valor de la lista es\", menor(listavalores))"
      ],
      "metadata": {
        "colab": {
          "base_uri": "https://localhost:8080/"
        },
        "id": "oEste6jYwydR",
        "outputId": "5e01bebb-83f7-4575-acf0-2b12cec103f0"
      },
      "execution_count": null,
      "outputs": [
        {
          "output_type": "stream",
          "name": "stdout",
          "text": [
            "La lista completa es\n",
            "[10, 56, 23, 120, 94]\n",
            "La suma de todos su elementos es 303\n",
            "El mayor valor de la lista es 120\n",
            "El menor valor de la lista es 10\n"
          ]
        }
      ]
    },
    {
      "cell_type": "code",
      "source": [
        "def registra(nom, tel):\n",
        " return(nom,tel)\n",
        "i=0\n",
        "lista=[]\n",
        "while i==0:\n",
        " print(\"***Menu Principal***\")\n",
        " print(\"1. REGISTRAR PERSONA\")\n",
        " print(\"2. CONSULTAR LISTADO\")\n",
        " print(\"3. SALIR\")\n",
        " opc=int(input())\n",
        "\n",
        " if opc==1:\n",
        "  print(\"REGISTRAR\")\n",
        "  n=input(\"ingrese nombre:\")\n",
        "  t=input(\"ingrese telefono:\")\n",
        "  per= registra(n,t)\n",
        "  lista.append(per)\n",
        "  print(\"persona guardad con exito!\")\n",
        " elif opc==2:\n",
        "  print(\"MOSTRAR\")\n",
        " elif opc==3:\n",
        "  exit()\n",
        " else:\n",
        "  print(\"OPCION INVALIDA\")\n",
        "  exit()\n",
        "\n"
      ],
      "metadata": {
        "colab": {
          "base_uri": "https://localhost:8080/",
          "height": 624
        },
        "id": "vR_2Hn0x1c8K",
        "outputId": "d8f1d51b-719e-4a9c-8bff-eda051a471fb"
      },
      "execution_count": 8,
      "outputs": [
        {
          "output_type": "stream",
          "name": "stdout",
          "text": [
            "***Menu Principal***\n",
            "1. REGISTRAR PERSONA\n",
            "2. CONSULTAR LISTADO\n",
            "3. SALIR\n",
            "1\n",
            "REGISTRAR\n",
            "ingrese nombre:josue\n",
            "ingrese telefono:1234\n",
            "persona guardad con exito!\n",
            "***Menu Principal***\n",
            "1. REGISTRAR PERSONA\n",
            "2. CONSULTAR LISTADO\n",
            "3. SALIR\n"
          ]
        },
        {
          "output_type": "error",
          "ename": "KeyboardInterrupt",
          "evalue": "ignored",
          "traceback": [
            "\u001b[0;31m---------------------------------------------------------------------------\u001b[0m",
            "\u001b[0;31mKeyboardInterrupt\u001b[0m                         Traceback (most recent call last)",
            "\u001b[0;32m<ipython-input-8-7c6c33930fea>\u001b[0m in \u001b[0;36m<cell line: 5>\u001b[0;34m()\u001b[0m\n\u001b[1;32m      8\u001b[0m  \u001b[0mprint\u001b[0m\u001b[0;34m(\u001b[0m\u001b[0;34m\"2. CONSULTAR LISTADO\"\u001b[0m\u001b[0;34m)\u001b[0m\u001b[0;34m\u001b[0m\u001b[0;34m\u001b[0m\u001b[0m\n\u001b[1;32m      9\u001b[0m  \u001b[0mprint\u001b[0m\u001b[0;34m(\u001b[0m\u001b[0;34m\"3. SALIR\"\u001b[0m\u001b[0;34m)\u001b[0m\u001b[0;34m\u001b[0m\u001b[0;34m\u001b[0m\u001b[0m\n\u001b[0;32m---> 10\u001b[0;31m  \u001b[0mopc\u001b[0m\u001b[0;34m=\u001b[0m\u001b[0mint\u001b[0m\u001b[0;34m(\u001b[0m\u001b[0minput\u001b[0m\u001b[0;34m(\u001b[0m\u001b[0;34m)\u001b[0m\u001b[0;34m)\u001b[0m\u001b[0;34m\u001b[0m\u001b[0;34m\u001b[0m\u001b[0m\n\u001b[0m\u001b[1;32m     11\u001b[0m \u001b[0;34m\u001b[0m\u001b[0m\n\u001b[1;32m     12\u001b[0m  \u001b[0;32mif\u001b[0m \u001b[0mopc\u001b[0m\u001b[0;34m==\u001b[0m\u001b[0;36m1\u001b[0m\u001b[0;34m:\u001b[0m\u001b[0;34m\u001b[0m\u001b[0;34m\u001b[0m\u001b[0m\n",
            "\u001b[0;32m/usr/local/lib/python3.10/dist-packages/ipykernel/kernelbase.py\u001b[0m in \u001b[0;36mraw_input\u001b[0;34m(self, prompt)\u001b[0m\n\u001b[1;32m    849\u001b[0m                 \u001b[0;34m\"raw_input was called, but this frontend does not support input requests.\"\u001b[0m\u001b[0;34m\u001b[0m\u001b[0;34m\u001b[0m\u001b[0m\n\u001b[1;32m    850\u001b[0m             )\n\u001b[0;32m--> 851\u001b[0;31m         return self._input_request(str(prompt),\n\u001b[0m\u001b[1;32m    852\u001b[0m             \u001b[0mself\u001b[0m\u001b[0;34m.\u001b[0m\u001b[0m_parent_ident\u001b[0m\u001b[0;34m,\u001b[0m\u001b[0;34m\u001b[0m\u001b[0;34m\u001b[0m\u001b[0m\n\u001b[1;32m    853\u001b[0m             \u001b[0mself\u001b[0m\u001b[0;34m.\u001b[0m\u001b[0m_parent_header\u001b[0m\u001b[0;34m,\u001b[0m\u001b[0;34m\u001b[0m\u001b[0;34m\u001b[0m\u001b[0m\n",
            "\u001b[0;32m/usr/local/lib/python3.10/dist-packages/ipykernel/kernelbase.py\u001b[0m in \u001b[0;36m_input_request\u001b[0;34m(self, prompt, ident, parent, password)\u001b[0m\n\u001b[1;32m    893\u001b[0m             \u001b[0;32mexcept\u001b[0m \u001b[0mKeyboardInterrupt\u001b[0m\u001b[0;34m:\u001b[0m\u001b[0;34m\u001b[0m\u001b[0;34m\u001b[0m\u001b[0m\n\u001b[1;32m    894\u001b[0m                 \u001b[0;31m# re-raise KeyboardInterrupt, to truncate traceback\u001b[0m\u001b[0;34m\u001b[0m\u001b[0;34m\u001b[0m\u001b[0m\n\u001b[0;32m--> 895\u001b[0;31m                 \u001b[0;32mraise\u001b[0m \u001b[0mKeyboardInterrupt\u001b[0m\u001b[0;34m(\u001b[0m\u001b[0;34m\"Interrupted by user\"\u001b[0m\u001b[0;34m)\u001b[0m \u001b[0;32mfrom\u001b[0m \u001b[0;32mNone\u001b[0m\u001b[0;34m\u001b[0m\u001b[0;34m\u001b[0m\u001b[0m\n\u001b[0m\u001b[1;32m    896\u001b[0m             \u001b[0;32mexcept\u001b[0m \u001b[0mException\u001b[0m \u001b[0;32mas\u001b[0m \u001b[0me\u001b[0m\u001b[0;34m:\u001b[0m\u001b[0;34m\u001b[0m\u001b[0;34m\u001b[0m\u001b[0m\n\u001b[1;32m    897\u001b[0m                 \u001b[0mself\u001b[0m\u001b[0;34m.\u001b[0m\u001b[0mlog\u001b[0m\u001b[0;34m.\u001b[0m\u001b[0mwarning\u001b[0m\u001b[0;34m(\u001b[0m\u001b[0;34m\"Invalid Message:\"\u001b[0m\u001b[0;34m,\u001b[0m \u001b[0mexc_info\u001b[0m\u001b[0;34m=\u001b[0m\u001b[0;32mTrue\u001b[0m\u001b[0;34m)\u001b[0m\u001b[0;34m\u001b[0m\u001b[0;34m\u001b[0m\u001b[0m\n",
            "\u001b[0;31mKeyboardInterrupt\u001b[0m: Interrupted by user"
          ]
        }
      ]
    },
    {
      "cell_type": "code",
      "source": [
        "Chip Ice Cream\", \"Rice & Ketchup\"];\n",
        "\n",
        "println(\"When I was a kid...\");\n",
        "println(\"My #1 favorite food was...\");\n",
        "println(myFavoriteFoods[0]);\n",
        "println(\"My #2 favorite food was...\");\n",
        "println(myFavoriteFoods[1]);\n",
        "println(\"My #3 favorite food was...\");\n",
        "println(myFavoriteFoods[2]);\n",
        "\n",
        "myFavoriteFoods[0] = \"Cheese\";\n",
        "myFavoriteFoods[1] = \"Sweet potato fries\";\n",
        "myFavoriteFoods[2] = \"Dark chocolate\";\n",
        "\n",
        "println(\"Now that I'm older...\");\n",
        "println(\"My #1 favorite food is...\");\n",
        "println(myFavoriteFoods[0]);\n",
        "println(\"My #2 favorite food is...\");\n",
        "println(myFavoriteFoods[1]);\n",
        "println(\"My #3 favorite food is...\");\n",
        "println(myFavoriteFoods[2]);"
      ],
      "metadata": {
        "id": "MP24Bt682S7b"
      },
      "execution_count": null,
      "outputs": []
    },
    {
      "cell_type": "code",
      "source": [
        "#sin argumentos y sin retornos\n",
        "def saludo():\n",
        "  print( \"saludando  a mis estudiantes\")\n",
        "saludo()\n"
      ],
      "metadata": {
        "colab": {
          "base_uri": "https://localhost:8080/"
        },
        "id": "ubtm3Pu4CKsg",
        "outputId": "857d5a82-87d5-4bd2-df91-7b9daa670a32"
      },
      "execution_count": null,
      "outputs": [
        {
          "output_type": "stream",
          "name": "stdout",
          "text": [
            "saludando  a mis estudiantes\n"
          ]
        }
      ]
    },
    {
      "cell_type": "code",
      "source": [
        "#sin argumentos y con retorno\n",
        "def suma():\n",
        "  num1=3\n",
        "  num2=5\n",
        "  return(num1+num2)\n",
        "\n",
        "print(\" la suma es: \", suma())"
      ],
      "metadata": {
        "colab": {
          "base_uri": "https://localhost:8080/"
        },
        "id": "O2tIJVYNmfe9",
        "outputId": "3b20b1a4-bbf3-4b95-8d9f-4c5da9f5899f"
      },
      "execution_count": null,
      "outputs": [
        {
          "output_type": "stream",
          "name": "stdout",
          "text": [
            " la suma es:  8\n"
          ]
        }
      ]
    },
    {
      "cell_type": "code",
      "source": [
        "# con argumento sin retorno\n",
        "def sumar(a,b):\n",
        "  suma=a+b\n",
        "  print(f\"la suma de los argumentos es: {suma}\")\n",
        "num1= int(input(\"ingrese el primer numero: \"))\n",
        "num2= int(input(\"ingrese el segundo numero: \"))\n",
        "sumar(num1,num2)"
      ],
      "metadata": {
        "colab": {
          "base_uri": "https://localhost:8080/"
        },
        "id": "Vdmn6ncMnaD9",
        "outputId": "579bbf6c-026c-4dea-a4b7-ff05749edcb3"
      },
      "execution_count": null,
      "outputs": [
        {
          "output_type": "stream",
          "name": "stdout",
          "text": [
            "ingrese el primer numero: 2\n",
            "ingrese el segundo numero: 2\n",
            "la suma de los argumentos es: 4\n"
          ]
        }
      ]
    },
    {
      "cell_type": "code",
      "source": [
        "#con argumento y con retorno\n",
        "def sumar(a,b):\n",
        "  suma= a+b\n",
        "  return(suma)\n",
        "\n",
        "num1= int(input(\"ingrese el primer numero: \"))\n",
        "num2= int(input(\"ingrese el segundo numero: \"))\n",
        "print(f\"la suma de la suma es:\", sumar(num1,num2))\n"
      ],
      "metadata": {
        "colab": {
          "base_uri": "https://localhost:8080/"
        },
        "id": "2fqX2nVIoto8",
        "outputId": "f00595ff-0b3d-465d-9a18-7f1f4dfa6dd3"
      },
      "execution_count": null,
      "outputs": [
        {
          "output_type": "stream",
          "name": "stdout",
          "text": [
            "ingrese el primer numero: 2\n",
            "ingrese el segundo numero: 2\n",
            "la suma de la suma es: 4\n"
          ]
        }
      ]
    },
    {
      "cell_type": "code",
      "source": [
        "# FUNIONES CON MENU\n",
        "def SUM(a,b):\n",
        "  return (a+b)\n",
        "def MULT(a,b):\n",
        "  return (a*b)\n",
        "def DIV(a,b):\n",
        "  return (a/b)\n",
        "def RES(a,b):\n",
        "  return (a-b)\n",
        "\n",
        "while True:\n",
        " print(\"***Menu Principal***\")\n",
        " print(\"1. SUMAR\")\n",
        " print(\"2. RESTAR\")\n",
        " print(\"3. MULTIPLICAR\")\n",
        " print(\"4. DIVIDIR\")\n",
        " print(\"5. SALIR\")\n",
        " opc=input( \"Ingrese una opcion: \")\n",
        " n1=float(input(\"NUMERO 1: \"))\n",
        " n2=float(input(\"NUMERO 2: \"))\n",
        " if opc==\"1\":\n",
        "  print(\"La suma es :\", SUM(n1,n2))\n",
        "  break\n",
        " elif opc==\"2\":\n",
        "  print(\"La resta es :\", RES(n1,n2))\n",
        "  break\n",
        " elif opc==\"3\":\n",
        "  print(\"La Multiplicacion es :\", MULT(n1,n2))\n",
        "  break\n",
        " elif opc==\"4\":\n",
        "  print(\"La Multiplicacion es :\", DIV(n1,n2))\n",
        "  break\n",
        " elif opc==\"5\":\n",
        "  break\n",
        "\n",
        " else:\n",
        "  print(\"Opcion Invalida\")"
      ],
      "metadata": {
        "colab": {
          "base_uri": "https://localhost:8080/",
          "height": 520
        },
        "id": "sMPRDzloqet2",
        "outputId": "02d009e5-41db-4937-faf4-30f5fc9994b2"
      },
      "execution_count": null,
      "outputs": [
        {
          "name": "stdout",
          "output_type": "stream",
          "text": [
            "***Menu Principal***\n",
            "1. SUMAR\n",
            "2. RESTAR\n",
            "3. MULTIPLICAR\n",
            "4. DIVIDIR\n",
            "5. SALIR\n",
            "Ingrese una opcion: 5\n"
          ]
        },
        {
          "output_type": "error",
          "ename": "KeyboardInterrupt",
          "evalue": "ignored",
          "traceback": [
            "\u001b[0;31m---------------------------------------------------------------------------\u001b[0m",
            "\u001b[0;31mKeyboardInterrupt\u001b[0m                         Traceback (most recent call last)",
            "\u001b[0;32m<ipython-input-16-07aa33eb5745>\u001b[0m in \u001b[0;36m<cell line: 12>\u001b[0;34m()\u001b[0m\n\u001b[1;32m     18\u001b[0m  \u001b[0mprint\u001b[0m\u001b[0;34m(\u001b[0m\u001b[0;34m\"5. SALIR\"\u001b[0m\u001b[0;34m)\u001b[0m\u001b[0;34m\u001b[0m\u001b[0;34m\u001b[0m\u001b[0m\n\u001b[1;32m     19\u001b[0m  \u001b[0mopc\u001b[0m\u001b[0;34m=\u001b[0m\u001b[0minput\u001b[0m\u001b[0;34m(\u001b[0m \u001b[0;34m\"Ingrese una opcion: \"\u001b[0m\u001b[0;34m)\u001b[0m\u001b[0;34m\u001b[0m\u001b[0;34m\u001b[0m\u001b[0m\n\u001b[0;32m---> 20\u001b[0;31m  \u001b[0mn1\u001b[0m\u001b[0;34m=\u001b[0m\u001b[0mfloat\u001b[0m\u001b[0;34m(\u001b[0m\u001b[0minput\u001b[0m\u001b[0;34m(\u001b[0m\u001b[0;34m\"NUMERO 1: \"\u001b[0m\u001b[0;34m)\u001b[0m\u001b[0;34m)\u001b[0m\u001b[0;34m\u001b[0m\u001b[0;34m\u001b[0m\u001b[0m\n\u001b[0m\u001b[1;32m     21\u001b[0m  \u001b[0mn2\u001b[0m\u001b[0;34m=\u001b[0m\u001b[0mfloat\u001b[0m\u001b[0;34m(\u001b[0m\u001b[0minput\u001b[0m\u001b[0;34m(\u001b[0m\u001b[0;34m\"NUMERO 2: \"\u001b[0m\u001b[0;34m)\u001b[0m\u001b[0;34m)\u001b[0m\u001b[0;34m\u001b[0m\u001b[0;34m\u001b[0m\u001b[0m\n\u001b[1;32m     22\u001b[0m  \u001b[0;32mif\u001b[0m \u001b[0mopc\u001b[0m\u001b[0;34m==\u001b[0m\u001b[0;34m\"1\"\u001b[0m\u001b[0;34m:\u001b[0m\u001b[0;34m\u001b[0m\u001b[0;34m\u001b[0m\u001b[0m\n",
            "\u001b[0;32m/usr/local/lib/python3.10/dist-packages/ipykernel/kernelbase.py\u001b[0m in \u001b[0;36mraw_input\u001b[0;34m(self, prompt)\u001b[0m\n\u001b[1;32m    849\u001b[0m                 \u001b[0;34m\"raw_input was called, but this frontend does not support input requests.\"\u001b[0m\u001b[0;34m\u001b[0m\u001b[0;34m\u001b[0m\u001b[0m\n\u001b[1;32m    850\u001b[0m             )\n\u001b[0;32m--> 851\u001b[0;31m         return self._input_request(str(prompt),\n\u001b[0m\u001b[1;32m    852\u001b[0m             \u001b[0mself\u001b[0m\u001b[0;34m.\u001b[0m\u001b[0m_parent_ident\u001b[0m\u001b[0;34m,\u001b[0m\u001b[0;34m\u001b[0m\u001b[0;34m\u001b[0m\u001b[0m\n\u001b[1;32m    853\u001b[0m             \u001b[0mself\u001b[0m\u001b[0;34m.\u001b[0m\u001b[0m_parent_header\u001b[0m\u001b[0;34m,\u001b[0m\u001b[0;34m\u001b[0m\u001b[0;34m\u001b[0m\u001b[0m\n",
            "\u001b[0;32m/usr/local/lib/python3.10/dist-packages/ipykernel/kernelbase.py\u001b[0m in \u001b[0;36m_input_request\u001b[0;34m(self, prompt, ident, parent, password)\u001b[0m\n\u001b[1;32m    893\u001b[0m             \u001b[0;32mexcept\u001b[0m \u001b[0mKeyboardInterrupt\u001b[0m\u001b[0;34m:\u001b[0m\u001b[0;34m\u001b[0m\u001b[0;34m\u001b[0m\u001b[0m\n\u001b[1;32m    894\u001b[0m                 \u001b[0;31m# re-raise KeyboardInterrupt, to truncate traceback\u001b[0m\u001b[0;34m\u001b[0m\u001b[0;34m\u001b[0m\u001b[0m\n\u001b[0;32m--> 895\u001b[0;31m                 \u001b[0;32mraise\u001b[0m \u001b[0mKeyboardInterrupt\u001b[0m\u001b[0;34m(\u001b[0m\u001b[0;34m\"Interrupted by user\"\u001b[0m\u001b[0;34m)\u001b[0m \u001b[0;32mfrom\u001b[0m \u001b[0;32mNone\u001b[0m\u001b[0;34m\u001b[0m\u001b[0;34m\u001b[0m\u001b[0m\n\u001b[0m\u001b[1;32m    896\u001b[0m             \u001b[0;32mexcept\u001b[0m \u001b[0mException\u001b[0m \u001b[0;32mas\u001b[0m \u001b[0me\u001b[0m\u001b[0;34m:\u001b[0m\u001b[0;34m\u001b[0m\u001b[0;34m\u001b[0m\u001b[0m\n\u001b[1;32m    897\u001b[0m                 \u001b[0mself\u001b[0m\u001b[0;34m.\u001b[0m\u001b[0mlog\u001b[0m\u001b[0;34m.\u001b[0m\u001b[0mwarning\u001b[0m\u001b[0;34m(\u001b[0m\u001b[0;34m\"Invalid Message:\"\u001b[0m\u001b[0;34m,\u001b[0m \u001b[0mexc_info\u001b[0m\u001b[0;34m=\u001b[0m\u001b[0;32mTrue\u001b[0m\u001b[0;34m)\u001b[0m\u001b[0;34m\u001b[0m\u001b[0;34m\u001b[0m\u001b[0m\n",
            "\u001b[0;31mKeyboardInterrupt\u001b[0m: Interrupted by user"
          ]
        }
      ]
    }
  ]
}